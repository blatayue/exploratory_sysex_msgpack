{
 "cells": [
  {
   "cell_type": "code",
   "execution_count": 1,
   "metadata": {},
   "outputs": [
    {
     "name": "stdout",
     "output_type": "stream",
     "text": [
      "{\"midi\":[144,60,64]}\n",
      "{\"bee\":\"\\n# # Bee Movie\\n# # By Jerry Seinfeld\\n\\n# # NARRATOR:\\n# # (Black screen with text; The sound of buzzing bees can be heard)\\n# # According to all known laws\\n# # of aviation,\\n# #  :\\n# # there is no way a bee\\n# # should be able to fly.\\n# #  :\\n# # Its wings are too small to get\\n# # its fat little body off the ground.\\n# #  :\\n# # The bee, of course, flies anyway\\n# #  :\\n# # because bees don't care\\n# # what humans think is impossible.\"}\n",
      "{\"arbitraryArr\":[1,false,[],{}],\"boolean\":true,\"nested\":{\"data\":null}}\n",
      "error:  \n"
     ]
    },
    {
     "data": {
      "text/plain": [
       "True"
      ]
     },
     "execution_count": 1,
     "metadata": {},
     "output_type": "execute_result"
    }
   ],
   "source": [
    "import websocket\n",
    "wsapp = websocket.WebSocketApp(\"ws://192.168.7.2:8080/ws\",\n",
    "                               on_message=lambda _, msg: print(msg),\n",
    "                               on_error=lambda _, err: print(\"error: \", err))\n",
    "wsapp.run_forever()"
   ]
  }
 ],
 "metadata": {
  "kernelspec": {
   "display_name": "Python 3",
   "language": "python",
   "name": "python3"
  },
  "language_info": {
   "codemirror_mode": {
    "name": "ipython",
    "version": 3
   },
   "file_extension": ".py",
   "mimetype": "text/x-python",
   "name": "python",
   "nbconvert_exporter": "python",
   "pygments_lexer": "ipython3",
   "version": "3.12.2"
  }
 },
 "nbformat": 4,
 "nbformat_minor": 2
}
